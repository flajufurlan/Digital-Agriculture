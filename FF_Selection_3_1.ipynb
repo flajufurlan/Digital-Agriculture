{
 "cells": [
  {
   "cell_type": "code",
   "execution_count": 1,
   "id": "9775a007",
   "metadata": {},
   "outputs": [],
   "source": [
    "#Fist step is to install the mlxtend library to perform step forward feature selection \n",
    "# Random Forest classifier for feature selection and model building"
   ]
  },
  {
   "cell_type": "code",
   "execution_count": 2,
   "id": "fb152cdd",
   "metadata": {},
   "outputs": [
    {
     "name": "stdout",
     "output_type": "stream",
     "text": [
      "Collecting package metadata (current_repodata.json): ...working... done\n",
      "Solving environment: ...working... done\n",
      "\n",
      "# All requested packages already installed.\n",
      "\n",
      "\n",
      "Note: you may need to restart the kernel to use updated packages.\n"
     ]
    }
   ],
   "source": [
    "conda install -c conda-forge mlxtend "
   ]
  },
  {
   "cell_type": "code",
   "execution_count": 3,
   "id": "9d8aee3d",
   "metadata": {},
   "outputs": [],
   "source": [
    "# The first steps are too make imports, load the dataset, and split it into training and testing sets.\n",
    "import numpy as np\n",
    "import pandas as pd\n",
    "from sklearn.ensemble import RandomForestClassifier\n",
    "from sklearn.model_selection import train_test_split\n",
    "from sklearn.metrics import accuracy_score as acc\n",
    "from mlxtend.feature_selection import SequentialFeatureSelector as sfs\n",
    "import os"
   ]
  },
  {
   "cell_type": "code",
   "execution_count": 4,
   "id": "92761fd8",
   "metadata": {},
   "outputs": [],
   "source": [
    "# Reading the data (csv format)\n",
    "df = pd.read_csv('winequality-white.csv', sep=';')\n"
   ]
  },
  {
   "cell_type": "code",
   "execution_count": 5,
   "id": "7056f497",
   "metadata": {},
   "outputs": [],
   "source": [
    "#Summary statistics\n",
    "\n",
    "FF_Description = df.describe()\n",
    "FF_Description.to_csv(\"FF_Description.csv\")"
   ]
  },
  {
   "cell_type": "code",
   "execution_count": 6,
   "id": "70748524",
   "metadata": {},
   "outputs": [
    {
     "name": "stdout",
     "output_type": "stream",
     "text": [
      "Training dataset shape: (3673, 11) (3673,)\n",
      "Testing dataset shape: (1225, 11) (1225,)\n"
     ]
    }
   ],
   "source": [
    "# In this command a train/test aplit.\n",
    "#Train Dataset: Used to fit the machine learning model.\n",
    "#Test Dataset: Used to evaluate the fit machine learning model.\n",
    "X_train, X_test, y_train, y_test = train_test_split(\n",
    "    df.values[:,:-1],\n",
    "    df.values[:,-1:],\n",
    "    test_size=0.25,\n",
    "    random_state=42)\n",
    "\n",
    "y_train = y_train.ravel()\n",
    "y_test = y_test.ravel()\n",
    "\n",
    "# Showing the traning/test data set shape\n",
    "print('Training dataset shape:', X_train.shape, y_train.shape)\n",
    "print('Testing dataset shape:', X_test.shape, y_test.shape)"
   ]
  },
  {
   "cell_type": "code",
   "execution_count": 7,
   "id": "5579e632",
   "metadata": {},
   "outputs": [],
   "source": [
    "#Defining a classifier \n",
    "#Using random forest that is a meta estimator that fits a number of decision tree classifiers on various sub-samples of the dataset and uses averaging\n",
    "#n_estimatorsint, default=100. The number of trees in the forest.\n",
    "clf = RandomForestClassifier(n_estimators=100, n_jobs=-1)"
   ]
  },
  {
   "cell_type": "code",
   "execution_count": 8,
   "id": "34ab05c6",
   "metadata": {},
   "outputs": [],
   "source": [
    "# Build step forward feature selection giving the subset of features that in this case are k_features=5\n",
    "# floating algorithms have an additional exclusion or inclusion step to remove features once they were included (or excluded)\n",
    "# The verbose is defined for mlxtend to report\n",
    "# The scoring to accuracy is used to score the models results that were built based on the selected features \n",
    "# mlxtend feature selector uses cross validation internally, and we set our desired folds to 5.\n",
    "sfs1 = sfs(clf,\n",
    "           k_features=5,\n",
    "           forward=True,\n",
    "           floating=False,\n",
    "           verbose=2,\n",
    "           scoring='accuracy',\n",
    "           cv=5)\n"
   ]
  },
  {
   "cell_type": "code",
   "execution_count": 9,
   "id": "924038a6",
   "metadata": {
    "scrolled": true
   },
   "outputs": [
    {
     "name": "stderr",
     "output_type": "stream",
     "text": [
      "[Parallel(n_jobs=1)]: Using backend SequentialBackend with 1 concurrent workers.\n",
      "[Parallel(n_jobs=1)]: Done   1 out of   1 | elapsed:   11.6s remaining:    0.0s\n",
      "[Parallel(n_jobs=1)]: Done  11 out of  11 | elapsed:   27.5s finished\n",
      "\n",
      "[2023-02-20 08:35:44] Features: 1/5 -- score: 0.49686222172792827[Parallel(n_jobs=1)]: Using backend SequentialBackend with 1 concurrent workers.\n",
      "[Parallel(n_jobs=1)]: Done   1 out of   1 | elapsed:    1.1s remaining:    0.0s\n",
      "[Parallel(n_jobs=1)]: Done  10 out of  10 | elapsed:   18.6s finished\n",
      "\n",
      "[2023-02-20 08:36:02] Features: 2/5 -- score: 0.5431581678993123[Parallel(n_jobs=1)]: Using backend SequentialBackend with 1 concurrent workers.\n",
      "[Parallel(n_jobs=1)]: Done   1 out of   1 | elapsed:    2.0s remaining:    0.0s\n",
      "[Parallel(n_jobs=1)]: Done   9 out of   9 | elapsed:   19.6s finished\n",
      "\n",
      "[2023-02-20 08:36:22] Features: 3/5 -- score: 0.6041357578453724[Parallel(n_jobs=1)]: Using backend SequentialBackend with 1 concurrent workers.\n",
      "[Parallel(n_jobs=1)]: Done   1 out of   1 | elapsed:    2.3s remaining:    0.0s\n",
      "[Parallel(n_jobs=1)]: Done   8 out of   8 | elapsed:   16.6s finished\n",
      "\n",
      "[2023-02-20 08:36:39] Features: 4/5 -- score: 0.6229183117388646[Parallel(n_jobs=1)]: Using backend SequentialBackend with 1 concurrent workers.\n",
      "[Parallel(n_jobs=1)]: Done   1 out of   1 | elapsed:    2.3s remaining:    0.0s\n",
      "[Parallel(n_jobs=1)]: Done   7 out of   7 | elapsed:   13.7s finished\n",
      "\n",
      "[2023-02-20 08:36:53] Features: 5/5 -- score: 0.64034106285566"
     ]
    }
   ],
   "source": [
    "# Perform SFFS\n",
    "# The score metric got comes from the subset of 5 features , using cross validation\n",
    "sfs1 = sfs1.fit(X_train, y_train)"
   ]
  },
  {
   "cell_type": "code",
   "execution_count": 10,
   "id": "ed4df753",
   "metadata": {},
   "outputs": [
    {
     "name": "stdout",
     "output_type": "stream",
     "text": [
      "[1, 3, 4, 7, 10]\n"
     ]
    }
   ],
   "source": [
    "# The commands are showing which features were selected for the model\n",
    "feat_cols = list(sfs1.k_feature_idx_)\n",
    "print(feat_cols)"
   ]
  },
  {
   "cell_type": "code",
   "execution_count": 11,
   "id": "968b8d14",
   "metadata": {},
   "outputs": [
    {
     "name": "stdout",
     "output_type": "stream",
     "text": [
      "Training accuracy on selected features: 0.559\n",
      "Testing accuracy on selected features: 0.509\n"
     ]
    }
   ],
   "source": [
    "# With the selected features it is possible not to build a full with the traning and test sets \n",
    "# The command is building a classifier for only the subset pf the selected features\n",
    "\n",
    "clf = RandomForestClassifier(n_estimators=1000, random_state=42, max_depth=4)\n",
    "clf.fit(X_train[:, feat_cols], y_train)\n",
    "\n",
    "y_train_pred = clf.predict(X_train[:, feat_cols])\n",
    "print('Training accuracy on selected features: %.3f' % acc(y_train, y_train_pred))\n",
    "\n",
    "y_test_pred = clf.predict(X_test[:, feat_cols])\n",
    "print('Testing accuracy on selected features: %.3f' % acc(y_test, y_test_pred))"
   ]
  },
  {
   "cell_type": "code",
   "execution_count": 12,
   "id": "460b8e38",
   "metadata": {},
   "outputs": [
    {
     "name": "stdout",
     "output_type": "stream",
     "text": [
      "Training accuracy on all features: 0.566\n",
      "Testing accuracy on all features: 0.509\n"
     ]
    }
   ],
   "source": [
    "# Comparision of the model above with the accuracies of another full model using all features \n",
    "# Comparision check \n",
    "clf = RandomForestClassifier(n_estimators=1000, random_state=42, max_depth=4)\n",
    "clf.fit(X_train, y_train)\n",
    "\n",
    "y_train_pred = clf.predict(X_train)\n",
    "print('Training accuracy on all features: %.3f' % acc(y_train, y_train_pred))\n",
    "\n",
    "y_test_pred = clf.predict(X_test)\n",
    "print('Testing accuracy on all features: %.3f' % acc(y_test, y_test_pred))"
   ]
  },
  {
   "cell_type": "code",
   "execution_count": 13,
   "id": "b2700740",
   "metadata": {},
   "outputs": [],
   "source": [
    "# It is important to check the feature subset that will work best for the data and do the comparision with the full data set.\n",
    "# Comparing the two models the accuracy is not very high and is very similar"
   ]
  },
  {
   "cell_type": "code",
   "execution_count": 14,
   "id": "c0e29478",
   "metadata": {},
   "outputs": [],
   "source": [
    "# With six features\n",
    "# Build step forward feature selection\n",
    "# It is important to choose the right numbers of features and check because \n",
    "#it can lead to a sub-optimak numer and combination of features being decided upon \n",
    "sfs1 = sfs(clf,\n",
    "           k_features=6,\n",
    "           forward=True,\n",
    "           floating=False,\n",
    "           verbose=2,\n",
    "           scoring='accuracy',\n",
    "           cv=5)\n"
   ]
  },
  {
   "cell_type": "code",
   "execution_count": 15,
   "id": "4b24001b",
   "metadata": {},
   "outputs": [
    {
     "name": "stderr",
     "output_type": "stream",
     "text": [
      "[Parallel(n_jobs=1)]: Using backend SequentialBackend with 1 concurrent workers.\n",
      "[Parallel(n_jobs=1)]: Done   1 out of   1 | elapsed:   12.0s remaining:    0.0s\n",
      "[Parallel(n_jobs=1)]: Done  11 out of  11 | elapsed:  2.7min finished\n",
      "\n",
      "[2023-02-20 08:40:15] Features: 1/6 -- score: 0.5004051975013438[Parallel(n_jobs=1)]: Using backend SequentialBackend with 1 concurrent workers.\n",
      "[Parallel(n_jobs=1)]: Done   1 out of   1 | elapsed:   20.1s remaining:    0.0s\n",
      "[Parallel(n_jobs=1)]: Done  10 out of  10 | elapsed:  2.5min finished\n",
      "\n",
      "[2023-02-20 08:42:44] Features: 2/6 -- score: 0.53879293406736[Parallel(n_jobs=1)]: Using backend SequentialBackend with 1 concurrent workers.\n",
      "[Parallel(n_jobs=1)]: Done   1 out of   1 | elapsed:   12.1s remaining:    0.0s\n",
      "[Parallel(n_jobs=1)]: Done   9 out of   9 | elapsed:  1.9min finished\n",
      "\n",
      "[2023-02-20 08:44:38] Features: 3/6 -- score: 0.5393408589593875[Parallel(n_jobs=1)]: Using backend SequentialBackend with 1 concurrent workers.\n",
      "[Parallel(n_jobs=1)]: Done   1 out of   1 | elapsed:   15.8s remaining:    0.0s\n",
      "[Parallel(n_jobs=1)]: Done   8 out of   8 | elapsed:  2.1min finished\n",
      "\n",
      "[2023-02-20 08:46:43] Features: 4/6 -- score: 0.5491408552521826[Parallel(n_jobs=1)]: Using backend SequentialBackend with 1 concurrent workers.\n",
      "[Parallel(n_jobs=1)]: Done   1 out of   1 | elapsed:   14.8s remaining:    0.0s\n",
      "[Parallel(n_jobs=1)]: Done   7 out of   7 | elapsed:  1.8min finished\n",
      "\n",
      "[2023-02-20 08:48:30] Features: 5/6 -- score: 0.551047470759421[Parallel(n_jobs=1)]: Using backend SequentialBackend with 1 concurrent workers.\n",
      "[Parallel(n_jobs=1)]: Done   1 out of   1 | elapsed:   15.7s remaining:    0.0s\n",
      "[Parallel(n_jobs=1)]: Done   6 out of   6 | elapsed:  1.5min finished\n",
      "\n",
      "[2023-02-20 08:50:00] Features: 6/6 -- score: 0.5488680049676546"
     ]
    }
   ],
   "source": [
    "# Perform SFFS\n",
    "sfs1 = sfs1.fit(X_train, y_train)"
   ]
  },
  {
   "cell_type": "code",
   "execution_count": 16,
   "id": "efed4cd8",
   "metadata": {},
   "outputs": [
    {
     "name": "stdout",
     "output_type": "stream",
     "text": [
      "[0, 1, 3, 4, 5, 10]\n"
     ]
    }
   ],
   "source": [
    "# Which features?\n",
    "feat_cols = list(sfs1.k_feature_idx_)\n",
    "print(feat_cols)"
   ]
  },
  {
   "cell_type": "code",
   "execution_count": 17,
   "id": "b735959c",
   "metadata": {},
   "outputs": [
    {
     "name": "stdout",
     "output_type": "stream",
     "text": [
      "Training accuracy on selected features: 0.563\n",
      "Testing accuracy on selected features: 0.515\n"
     ]
    }
   ],
   "source": [
    "# Build full model with selected features\n",
    "clf = RandomForestClassifier(n_estimators=1000, random_state=42, max_depth=4)\n",
    "clf.fit(X_train[:, feat_cols], y_train)\n",
    "\n",
    "y_train_pred = clf.predict(X_train[:, feat_cols])\n",
    "print('Training accuracy on selected features: %.3f' % acc(y_train, y_train_pred))\n",
    "\n",
    "y_test_pred = clf.predict(X_test[:, feat_cols])\n",
    "print('Testing accuracy on selected features: %.3f' % acc(y_test, y_test_pred))"
   ]
  },
  {
   "cell_type": "code",
   "execution_count": 18,
   "id": "75acc7c0",
   "metadata": {},
   "outputs": [],
   "source": [
    "# the score with 5 (0.64) features was higher than with 6 (0.54) features. \n",
    "# The full model built with the selected features ( training an testing accuracy) 5 and 6 are very approximate "
   ]
  }
 ],
 "metadata": {
  "kernelspec": {
   "display_name": "Python 3 (ipykernel)",
   "language": "python",
   "name": "python3"
  },
  "language_info": {
   "codemirror_mode": {
    "name": "ipython",
    "version": 3
   },
   "file_extension": ".py",
   "mimetype": "text/x-python",
   "name": "python",
   "nbconvert_exporter": "python",
   "pygments_lexer": "ipython3",
   "version": "3.9.13"
  }
 },
 "nbformat": 4,
 "nbformat_minor": 5
}
